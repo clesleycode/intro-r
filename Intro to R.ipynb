{
 "cells": [
  {
   "cell_type": "markdown",
   "metadata": {},
   "source": [
    "## Introduction to R Programming"
   ]
  },
  {
   "cell_type": "markdown",
   "metadata": {},
   "source": [
    "## Setup \n",
    "\n",
    "This guide was written in R 3.4, so if you currently do not have R installed, please download it [here](https://www.r-project.org/). "
   ]
  },
  {
   "cell_type": "markdown",
   "metadata": {},
   "source": [
    "### What is R?\n",
    "\n",
    "R is a powerful language used primarily for data analysis and statistical computing. R has what we call `packages`, which can used for almost any data science task. Packages like `dplyr`, `tidyr`, `readr`, `data.table`, `SparkR`, `ggplot2` have made data manipulation, visualization and computation much easier *and* faster.\n",
    "\n",
    "### Why use R?\n",
    "\n",
    "- It's open source\n",
    "- 7800 packages available for computation tasks\n",
    "- High performance computing experience \n",
    "\n",
    "### Comments \n",
    "\n",
    "In the context of computer science, comments are used for providing details throughout your code. They're particularly useful when you're working on something complex and want to remember why or what you did, as well as for when other people need to read your code and don't have you to explain it to them. \n",
    "\n",
    "In R, we denote comments with the `#` symbols, such as follows:\n",
    "\n",
    "``` R\n",
    "# This is a comment!\n",
    "```\n"
   ]
  },
  {
   "cell_type": "markdown",
   "metadata": {},
   "source": [
    "### Print \n",
    "\n",
    "When interacting with a user, we might want to send messages to them. To do that, we send messages to the console via the `print` command.\n"
   ]
  },
  {
   "cell_type": "code",
   "execution_count": 1,
   "metadata": {},
   "outputs": [
    {
     "name": "stdout",
     "output_type": "stream",
     "text": [
      "[1] \"The Dog is Cute\"\n"
     ]
    }
   ],
   "source": [
    "print(\"The Dog is Cute\")"
   ]
  },
  {
   "cell_type": "markdown",
   "metadata": {},
   "source": [
    "# Data in R\n",
    "\n",
    "At the core of R is the data we use, and its different forms. In this section, we'll review the different data types R supports and when to use each. But first, we'll begin with variables.\n",
    "\n",
    "\n",
    "## Variables\n",
    "\n",
    "Imagine you had no memory to store information you need on a regular basis. That would be miserable, right? You'd have to relearn everything so you can reference it in whatever context you need it for. In R and any other programming language, the form of 'memory' we use to reference information (or data) is with *variables*. \n",
    "\n",
    "Variable are composed of two parts: its variable name, and its variable value. The variable name is how you reference whatever piece or collection of data you need. The are names we assign values to. Why do we want to do this? Because without variables, we don't have a way of referencing and using data. Value can be many things, including another variable, but in most cases, the value is a <b>data type</b>. \n",
    "\n",
    "In R, there are actually <b>two</b> ways of assigning values: `=` and `<-`. Typically though, we use `<-`, such as `my_val <- 4`.\n",
    "\n",
    "\n",
    "### Data Types and Operators\n",
    "\n",
    "Every programming language needs to store data and a way to work with this data. R, like other languages, breaks these data into types and provides different ways to interact with them. \n",
    "\n",
    "Everything you see or create in R is an <b>object</b>. A vector, matrix, data frame, even a variable is an object. R treats it that way. So, R has 5 basic classes of objects, including:\n",
    "\n",
    "- Character\n",
    "- Numeric (Real Numbers)\n",
    "- Integer (Whole Numbers)\n",
    "- Complex\n",
    "- Logical (True/False)\n",
    "\n",
    "These classes have attributes, such as the following:\n",
    "\n",
    "- names \n",
    "- dimension names\n",
    "- dimensions\n",
    "- class\n",
    "- length\n",
    "\n",
    "Attributes of an object can be accessed using `attributes()` function. We will get into what functions are later.\n"
   ]
  },
  {
   "cell_type": "code",
   "execution_count": 3,
   "metadata": {},
   "outputs": [
    {
     "name": "stdout",
     "output_type": "stream",
     "text": [
      "[1] -4\n"
     ]
    }
   ],
   "source": [
    "my_var <- -4\n",
    "my_var = -4\n",
    "print(my_var)\n",
    "my_var = 8"
   ]
  },
  {
   "cell_type": "markdown",
   "metadata": {},
   "source": [
    "# Challenge\n",
    "\n",
    "Assign three variables called `var1`, `var2`, and `var3` to the values `1`, `\"Byte\"`, and `5.43`. "
   ]
  },
  {
   "cell_type": "code",
   "execution_count": null,
   "metadata": {
    "collapsed": true
   },
   "outputs": [],
   "source": []
  },
  {
   "cell_type": "markdown",
   "metadata": {},
   "source": [
    "# Data Collections\n",
    "\n",
    "Frequently, your program will require that you store multiple data items together. This might be because you have a group of data that should be referenced together, or even to reduce the number of variables you have to define. Regardless of why, there are four data collections that you can utilize in R: Vectors, Matrices, Lists, and DataFrames. "
   ]
  },
  {
   "cell_type": "markdown",
   "metadata": {},
   "source": [
    "## Vectors\n",
    "\n",
    "The most basic object in R is known as vector, which contains objects of the same class. Let's try creating vectors of different classes. We can create vector using `c()`:"
   ]
  },
  {
   "cell_type": "code",
   "execution_count": 2,
   "metadata": {
    "collapsed": true
   },
   "outputs": [],
   "source": [
    "a <- c(1.8, 4.5)   # numeric\n",
    "b <- c(1 + 2i, 3 - 6i) # complex\n",
    "d <- c(23, 44)   # integer"
   ]
  },
  {
   "cell_type": "markdown",
   "metadata": {},
   "source": [
    "# Challenge\n",
    "\n",
    "Using the variable `vec1`, create a vector with <b>5</b> numerical values."
   ]
  },
  {
   "cell_type": "code",
   "execution_count": null,
   "metadata": {
    "collapsed": true
   },
   "outputs": [],
   "source": []
  },
  {
   "cell_type": "markdown",
   "metadata": {},
   "source": [
    "### Matrices\n",
    "\n",
    "When a vector is introduced with row and columns (the dimension attribute), it becomes a matrix. It consist of elements of the same class, such as the following:"
   ]
  },
  {
   "cell_type": "code",
   "execution_count": 3,
   "metadata": {},
   "outputs": [
    {
     "name": "stdout",
     "output_type": "stream",
     "text": [
      "     [,1] [,2]\n",
      "[1,]    1    4\n",
      "[2,]    2    5\n",
      "[3,]    3    6\n"
     ]
    }
   ],
   "source": [
    "my_matrix <- matrix(1:6, nrow=3, ncol=2)\n",
    "print(my_matrix)"
   ]
  },
  {
   "cell_type": "markdown",
   "metadata": {},
   "source": [
    "# Challenge\n",
    "\n",
    "1. Create two vectors with the values 1 to 5 and 10.5 to 12.5, respectively. Then concatinate these two vectors into 1 vector, named `vec1`. What is the class? Call the function and assign its result to the variable `class1`.\n",
    "\n",
    "2. Change the 4th element of the above vector to the word 'four' and assign it to the vector `vec2`. Did this change the class? Call the function and assign its result to the variable `class2`.\n",
    "\n",
    "3. Using the `rep()` function, create a vector that repeats the values 1 2 3 twice. Assign this vector the variable `vec3`. (Result: 1 2 3 1 2 3)\n",
    "\n",
    "4. Create a 3 by 4 matrix where each row has the same value. Assign this to the variable `matrix1` (hint: use the rep function)\n",
    "\n",
    "5. Create a 4 by 3 matrix where each row has the same value. Assign this matrix to the variable `matrix2`. (hint: use the `rep()` function)"
   ]
  },
  {
   "cell_type": "code",
   "execution_count": 1,
   "metadata": {
    "collapsed": true
   },
   "outputs": [],
   "source": [
    "# Question 1"
   ]
  },
  {
   "cell_type": "code",
   "execution_count": 2,
   "metadata": {
    "collapsed": true
   },
   "outputs": [],
   "source": [
    "# Question 2"
   ]
  },
  {
   "cell_type": "code",
   "execution_count": 3,
   "metadata": {
    "collapsed": true
   },
   "outputs": [],
   "source": [
    "# Question 3"
   ]
  },
  {
   "cell_type": "code",
   "execution_count": 4,
   "metadata": {
    "collapsed": true
   },
   "outputs": [],
   "source": [
    "# Question 4"
   ]
  },
  {
   "cell_type": "code",
   "execution_count": 5,
   "metadata": {
    "collapsed": true
   },
   "outputs": [],
   "source": [
    "# Question 5"
   ]
  },
  {
   "cell_type": "markdown",
   "metadata": {},
   "source": [
    "## Lists\n",
    "\n",
    "Lists are present in R, as well as most other programming languages. A list is a data structure that can hold any number of any types of other data structures. For example, if you have vector, a dataframe, and a character object, you can put all of those into one list object. "
   ]
  },
  {
   "cell_type": "markdown",
   "metadata": {},
   "source": [
    "### Constructing a List\n",
    "\n",
    "To begin constructing a list, we'll create three variables with different data types. Since lists support mixed types, we'll use these to add to a list."
   ]
  },
  {
   "cell_type": "code",
   "execution_count": 1,
   "metadata": {
    "collapsed": true
   },
   "outputs": [],
   "source": [
    "vec <- 1:4\n",
    "num <- 17\n",
    "char <- \"Hello!\""
   ]
  },
  {
   "cell_type": "markdown",
   "metadata": {},
   "source": [
    "Then you can add all three objects to one list using `list()` function:\n"
   ]
  },
  {
   "cell_type": "code",
   "execution_count": 3,
   "metadata": {},
   "outputs": [
    {
     "name": "stdout",
     "output_type": "stream",
     "text": [
      "[[1]]\n",
      "[1] 1 2 3 4\n",
      "\n",
      "[[2]]\n",
      "[1] 17\n",
      "\n",
      "[[3]]\n",
      "[1] \"Hello!\"\n",
      "\n"
     ]
    }
   ],
   "source": [
    "list1 <- list(vec, num, char)\n",
    "\n",
    "print(list1)"
   ]
  },
  {
   "cell_type": "markdown",
   "metadata": {},
   "source": [
    "You can also turn an object into a list by using the `as.list()` function. Notice how every element of the vector becomes a different component of the list."
   ]
  },
  {
   "cell_type": "markdown",
   "metadata": {},
   "source": [
    "#### Manipulating a List\n",
    "\n",
    "We can put names on the components of a list using the `names()` function, which is useful for extracting components. We could have also named the components when we created the list.\n"
   ]
  },
  {
   "cell_type": "code",
   "execution_count": 4,
   "metadata": {
    "collapsed": true
   },
   "outputs": [],
   "source": [
    "names(list1) <- c(\"Numbers\", \"Some.data\", \"Letters\")"
   ]
  },
  {
   "cell_type": "markdown",
   "metadata": {},
   "source": [
    "#### Extracting Components"
   ]
  },
  {
   "cell_type": "markdown",
   "metadata": {},
   "source": [
    "The first way you can extract an object from the list is by using the [[ ]] operator. "
   ]
  },
  {
   "cell_type": "code",
   "execution_count": 5,
   "metadata": {},
   "outputs": [
    {
     "data": {
      "text/html": [
       "'Hello!'"
      ],
      "text/latex": [
       "'Hello!'"
      ],
      "text/markdown": [
       "'Hello!'"
      ],
      "text/plain": [
       "[1] \"Hello!\""
      ]
     },
     "metadata": {},
     "output_type": "display_data"
    }
   ],
   "source": [
    "list1[[3]]"
   ]
  },
  {
   "cell_type": "markdown",
   "metadata": {},
   "source": [
    "It's also possible to extract components using the component’s name, as shown below:"
   ]
  },
  {
   "cell_type": "code",
   "execution_count": 6,
   "metadata": {},
   "outputs": [
    {
     "data": {
      "text/html": [
       "'Hello!'"
      ],
      "text/latex": [
       "'Hello!'"
      ],
      "text/markdown": [
       "'Hello!'"
      ],
      "text/plain": [
       "[1] \"Hello!\""
      ]
     },
     "metadata": {},
     "output_type": "display_data"
    }
   ],
   "source": [
    "list1$Letters"
   ]
  },
  {
   "cell_type": "markdown",
   "metadata": {},
   "source": [
    "#### Subsetting a List\n",
    "\n",
    "If you want to take a subset of a list, you can use the `[ ]` operator and `c()` to choose the components: "
   ]
  },
  {
   "cell_type": "code",
   "execution_count": 8,
   "metadata": {},
   "outputs": [
    {
     "data": {
      "text/html": [
       "<dl>\n",
       "\t<dt>$Numbers</dt>\n",
       "\t\t<dd><ol class=list-inline>\n",
       "\t<li>1</li>\n",
       "\t<li>2</li>\n",
       "\t<li>3</li>\n",
       "\t<li>4</li>\n",
       "</ol>\n",
       "</dd>\n",
       "\t<dt>$Letters</dt>\n",
       "\t\t<dd>'Hello!'</dd>\n",
       "</dl>\n"
      ],
      "text/latex": [
       "\\begin{description}\n",
       "\\item[\\$Numbers] \\begin{enumerate*}\n",
       "\\item 1\n",
       "\\item 2\n",
       "\\item 3\n",
       "\\item 4\n",
       "\\end{enumerate*}\n",
       "\n",
       "\\item[\\$Letters] 'Hello!'\n",
       "\\end{description}\n"
      ],
      "text/markdown": [
       "$Numbers\n",
       ":   1. 1\n",
       "2. 2\n",
       "3. 3\n",
       "4. 4\n",
       "\n",
       "\n",
       "\n",
       "$Letters\n",
       ":   'Hello!'\n",
       "\n",
       "\n"
      ],
      "text/plain": [
       "$Numbers\n",
       "[1] 1 2 3 4\n",
       "\n",
       "$Letters\n",
       "[1] \"Hello!\"\n"
      ]
     },
     "metadata": {},
     "output_type": "display_data"
    }
   ],
   "source": [
    "list1[c(1, 3)]"
   ]
  },
  {
   "cell_type": "markdown",
   "metadata": {},
   "source": [
    "We can also add a new component to the list or replace a component using the [[ ]] operator, such as the following example: \n"
   ]
  },
  {
   "cell_type": "code",
   "execution_count": 9,
   "metadata": {
    "collapsed": true
   },
   "outputs": [],
   "source": [
    "list1[[5]] <- \"new component\""
   ]
  },
  {
   "cell_type": "markdown",
   "metadata": {},
   "source": [
    "Finally, we can delete a component of a list by setting it equal to NULL:"
   ]
  },
  {
   "cell_type": "code",
   "execution_count": 10,
   "metadata": {
    "collapsed": true
   },
   "outputs": [],
   "source": [
    "list1$Letters <- NULL"
   ]
  },
  {
   "cell_type": "markdown",
   "metadata": {},
   "source": [
    "### Describing Lists\n",
    "\n",
    "Now we'll go over ways in which we can extract list properties.  \n",
    "\n",
    "#### Class\n",
    "\n",
    "The class of the list and the class of one of the components of the list."
   ]
  },
  {
   "cell_type": "code",
   "execution_count": 11,
   "metadata": {},
   "outputs": [
    {
     "data": {
      "text/html": [
       "'list'"
      ],
      "text/latex": [
       "'list'"
      ],
      "text/markdown": [
       "'list'"
      ],
      "text/plain": [
       "[1] \"list\""
      ]
     },
     "metadata": {},
     "output_type": "display_data"
    }
   ],
   "source": [
    "class(list1)"
   ]
  },
  {
   "cell_type": "code",
   "execution_count": 12,
   "metadata": {},
   "outputs": [
    {
     "data": {
      "text/html": [
       "'integer'"
      ],
      "text/latex": [
       "'integer'"
      ],
      "text/markdown": [
       "'integer'"
      ],
      "text/plain": [
       "[1] \"integer\""
      ]
     },
     "metadata": {},
     "output_type": "display_data"
    }
   ],
   "source": [
    "class(list1[[1]])"
   ]
  },
  {
   "cell_type": "markdown",
   "metadata": {},
   "source": [
    "#### Size \n",
    "\n",
    "You can find the size of a list with the `length()` method, like in the following:\n"
   ]
  },
  {
   "cell_type": "code",
   "execution_count": 13,
   "metadata": {},
   "outputs": [
    {
     "data": {
      "text/html": [
       "4"
      ],
      "text/latex": [
       "4"
      ],
      "text/markdown": [
       "4"
      ],
      "text/plain": [
       "[1] 4"
      ]
     },
     "metadata": {},
     "output_type": "display_data"
    }
   ],
   "source": [
    "length(list1)"
   ]
  },
  {
   "cell_type": "markdown",
   "metadata": {},
   "source": [
    "#### Converting\n",
    "\n",
    "Finally, we can convert a list into a matrix, dataframe, or vector in a number of different ways. The first, most basic way is to use unlist(), which just turns the whole list into one long vector:"
   ]
  },
  {
   "cell_type": "code",
   "execution_count": 14,
   "metadata": {},
   "outputs": [
    {
     "data": {
      "text/html": [
       "<dl class=dl-horizontal>\n",
       "\t<dt>Numbers1</dt>\n",
       "\t\t<dd>'1'</dd>\n",
       "\t<dt>Numbers2</dt>\n",
       "\t\t<dd>'2'</dd>\n",
       "\t<dt>Numbers3</dt>\n",
       "\t\t<dd>'3'</dd>\n",
       "\t<dt>Numbers4</dt>\n",
       "\t\t<dd>'4'</dd>\n",
       "\t<dt>Some.data</dt>\n",
       "\t\t<dd>'17'</dd>\n",
       "\t<dt>6</dt>\n",
       "\t\t<dd>'new component'</dd>\n",
       "</dl>\n"
      ],
      "text/latex": [
       "\\begin{description*}\n",
       "\\item[Numbers1] '1'\n",
       "\\item[Numbers2] '2'\n",
       "\\item[Numbers3] '3'\n",
       "\\item[Numbers4] '4'\n",
       "\\item[Some.data] '17'\n",
       "\\item[6] 'new component'\n",
       "\\end{description*}\n"
      ],
      "text/markdown": [
       "Numbers1\n",
       ":   '1'Numbers2\n",
       ":   '2'Numbers3\n",
       ":   '3'Numbers4\n",
       ":   '4'Some.data\n",
       ":   '17'6\n",
       ":   'new component'\n",
       "\n"
      ],
      "text/plain": [
       "       Numbers1        Numbers2        Numbers3        Numbers4       Some.data \n",
       "            \"1\"             \"2\"             \"3\"             \"4\"            \"17\" \n",
       "                \n",
       "\"new component\" "
      ]
     },
     "metadata": {},
     "output_type": "display_data"
    }
   ],
   "source": [
    "unlist(list1)"
   ]
  },
  {
   "cell_type": "markdown",
   "metadata": {},
   "source": [
    "# Challenge \n",
    "\n",
    "1. Create a new vector that contains 0 to 6. Assign this vector to the variable `f`.\n",
    "\n",
    "2. Create a new vector that contains the value 0 repeated 5 times. Assign this vector to the variable `r`.\n",
    "\n",
    "3. Create a list with vectors `f` and `r`, as well as with the element, 'hello'. Assign this list to the variable `list1`.\n"
   ]
  },
  {
   "cell_type": "code",
   "execution_count": null,
   "metadata": {
    "collapsed": true
   },
   "outputs": [],
   "source": [
    "# Question 1"
   ]
  },
  {
   "cell_type": "code",
   "execution_count": null,
   "metadata": {
    "collapsed": true
   },
   "outputs": [],
   "source": [
    "# Question 2"
   ]
  },
  {
   "cell_type": "code",
   "execution_count": null,
   "metadata": {
    "collapsed": true
   },
   "outputs": [],
   "source": [
    "# Question 3"
   ]
  },
  {
   "cell_type": "markdown",
   "metadata": {},
   "source": [
    "## DataFrame\n",
    "\n",
    "DataFrames are used to store tabular data. It's similar to a matrix in that there are rows and columns, but it's different because every element does <b>not</b> have to be the same class. In a dataFrame, you can put list of vectors containing different classes. This means that every column of a data frame acts like a list. \n"
   ]
  },
  {
   "cell_type": "code",
   "execution_count": 15,
   "metadata": {
    "scrolled": true
   },
   "outputs": [
    {
     "name": "stdout",
     "output_type": "stream",
     "text": [
      "   name score\n",
      "1  ojas    67\n",
      "2 jacob    56\n",
      "3  mary    87\n",
      "4 helen    91\n"
     ]
    }
   ],
   "source": [
    "df <- data.frame(name = c(\"ojas\",\"jacob\",\"mary\",\"helen\"), score = c(67,56,87,91))\n",
    "print(df)"
   ]
  },
  {
   "cell_type": "markdown",
   "metadata": {},
   "source": [
    "DataFrame objects are incredibly useful when working with data that has relational relationships, such as a csv file. You'll soon see the extent to which these become useful soon enough!\n"
   ]
  },
  {
   "cell_type": "markdown",
   "metadata": {},
   "source": [
    "# Challenge\n",
    "\n",
    "Using the variable `df1`, create a 3x3 dataframe using three lists.\n"
   ]
  },
  {
   "cell_type": "code",
   "execution_count": null,
   "metadata": {
    "collapsed": true
   },
   "outputs": [],
   "source": []
  },
  {
   "cell_type": "markdown",
   "metadata": {},
   "source": [
    "To summarize this succinctly, \n",
    "\n",
    "\n",
    "| Structure | Multidimension | Multiple Types |\n",
    "| --------- |:--------------:| --------------:|\n",
    "| Vector    | Not Capable    | Not Capable    |\n",
    "| Matrix    | Capable        | Not Capable    |\n",
    "| List      | Not Capable    | Capable        |\n",
    "| DataFrame | Capable        | Capable        |\n",
    "\n"
   ]
  },
  {
   "cell_type": "markdown",
   "metadata": {},
   "source": [
    "## Functions\n",
    "\n",
    "A function is a block of code that we invoke by using the function name with parenthesis `()`.\n",
    "\n",
    "We initialize a function with the reserved function `function()`. In the function's parenthesis we state the parameters it takes when called.\n",
    "\n",
    "We call this \"function declaration\". It looks like this: `y <- function(x)`. Recall that x is the input and y is the output.  \n",
    "\n",
    "More broadly put, we have something like: \n",
    "\n",
    "```R\n",
    "function_name <- function( arguments ) {\n",
    "  body - returns some computation of the arguments \n",
    "}\n",
    "```\n",
    "\n",
    "The arguments are the input and the body is the output."
   ]
  },
  {
   "cell_type": "markdown",
   "metadata": {},
   "source": [
    "# Challenge \n",
    "\n",
    "1.  Write a function called `fun1` that takes x as in input and returns 2x.  what value do we get when we run 5 through the function? \n",
    "\n",
    "2. Write a function called `fun2` that takes two inputs, a and b,  and returns (a + b) ^2. \n",
    "\n",
    "3.  Write a function called `fun3` that takes two inputs, a and b,  it returns a list.  the first element of the list return the opperation a+b (call this `add`)  and second element will return the opperation a-b ( call it `sub`).  \n"
   ]
  },
  {
   "cell_type": "code",
   "execution_count": null,
   "metadata": {
    "collapsed": true
   },
   "outputs": [],
   "source": [
    "# Question 1"
   ]
  },
  {
   "cell_type": "code",
   "execution_count": null,
   "metadata": {
    "collapsed": true
   },
   "outputs": [],
   "source": [
    "# Question 2"
   ]
  },
  {
   "cell_type": "code",
   "execution_count": null,
   "metadata": {
    "collapsed": true
   },
   "outputs": [],
   "source": [
    "# Question 3"
   ]
  },
  {
   "cell_type": "markdown",
   "metadata": {},
   "source": [
    "# Control Flow\n",
    "\n",
    "In the context of programming, control flow allows a programmer to specify when a specific block of code is executed. Similar to how functions execute their block of code whenever they're called, control flow statements are executed according to our specifications.\n",
    "\n",
    "### Booleans\n",
    "\n",
    "We briefly reviewed booleans a data type in R. To expand further on this concept, let's review what this actually means for us. Booleans are true or false values, and are generally output as a result of a **condition**. "
   ]
  },
  {
   "cell_type": "markdown",
   "metadata": {
    "collapsed": true
   },
   "source": [
    "## If/Else\n",
    "\n",
    "R, among many other programming languages, provides us with an if/else statement to test a <b>condition</b> in our code. Conditions allow us to have control flow in our R programs, which means we have control over whether a particular piece of code is run or not. Our code decides this by testing the condition. \n",
    "\n",
    "A condition is an expression that functions similar to a question and evaluates to either True or False. Below is the syntax:\n",
    "\n",
    "``` R\n",
    "if (condition) {\n",
    "         ## statement 1\n",
    "} \n",
    "else {\n",
    "         ## statement 2\n",
    "}\n",
    "```"
   ]
  },
  {
   "cell_type": "markdown",
   "metadata": {},
   "source": [
    "Multiple conditions can be combined with repeating if - else. Below is the syntax for 4 conditions: \n",
    "\n",
    "```R\n",
    "if (condition 1) {\n",
    "         ## statement 1\n",
    "} else if (condition 2) {\n",
    "         ## statement 2\n",
    "} else if (condition 3) {\n",
    "         ## statement 3\n",
    "} else\n",
    "         ## statement 4\n",
    "}\n",
    "```\n",
    "   "
   ]
  },
  {
   "cell_type": "markdown",
   "metadata": {},
   "source": [
    "# Challenge \n",
    "\n",
    "In the following challenges, write if-else statements and test them with the values -1, 0, 1.\n",
    "\n",
    "1. If an input is greater than zero, print \"this value is positive\", else print \"this value is negative or zero\".\n",
    "\n",
    "2. If an input is greater than zero, print double the value, else return triple the value.\n",
    "\n",
    "3. If x is greater than 0, it prints \"positive\", if x is less than 0, it prints \"negative\", and  if x is equal to 0, it prints \"zero\".\n",
    "\n",
    "4. If x is greater than 0, it prints the value doubled, but if x is less than 0, it returns the value tripled. Lastly, if x is equal to 0, it prints -100.\n"
   ]
  },
  {
   "cell_type": "code",
   "execution_count": null,
   "metadata": {
    "collapsed": true
   },
   "outputs": [],
   "source": [
    "# Question 1"
   ]
  },
  {
   "cell_type": "code",
   "execution_count": null,
   "metadata": {
    "collapsed": true
   },
   "outputs": [],
   "source": [
    "# Question 2"
   ]
  },
  {
   "cell_type": "code",
   "execution_count": null,
   "metadata": {
    "collapsed": true
   },
   "outputs": [],
   "source": [
    "# Question 3"
   ]
  },
  {
   "cell_type": "code",
   "execution_count": null,
   "metadata": {
    "collapsed": true
   },
   "outputs": [],
   "source": [
    "# Question 4"
   ]
  },
  {
   "cell_type": "markdown",
   "metadata": {},
   "source": [
    "### For Loops\n",
    "\n",
    "Remember those lists and vectors we made earlier? The ones that hold multiple values? If you don't, here is an example."
   ]
  },
  {
   "cell_type": "code",
   "execution_count": 17,
   "metadata": {
    "collapsed": true
   },
   "outputs": [],
   "source": [
    "list1 <- list(\"dog\", \"cat\", \"bird\", \"turtle\", \"fish\", \"hamster\", \"lizard\")"
   ]
  },
  {
   "cell_type": "markdown",
   "metadata": {},
   "source": [
    "What if we  wanted to print every value in that list? We could do something like this:\n"
   ]
  },
  {
   "cell_type": "code",
   "execution_count": 18,
   "metadata": {},
   "outputs": [
    {
     "name": "stdout",
     "output_type": "stream",
     "text": [
      "[[1]]\n",
      "[1] \"dog\"\n",
      "\n",
      "[[1]]\n",
      "[1] \"cat\"\n",
      "\n",
      "[[1]]\n",
      "[1] \"bird\"\n",
      "\n",
      "[[1]]\n",
      "[1] \"turtle\"\n",
      "\n",
      "[[1]]\n",
      "[1] \"fish\"\n",
      "\n",
      "[[1]]\n",
      "[1] \"hamster\"\n",
      "\n"
     ]
    }
   ],
   "source": [
    "print(list1[1])\n",
    "print(list1[2])\n",
    "print(list1[3])\n",
    "print(list1[4])\n",
    "print(list1[5])\n",
    "print(list1[6])"
   ]
  },
  {
   "cell_type": "markdown",
   "metadata": {},
   "source": [
    "But there is an easier way to do this: For loops. Loops are fundamental to all programming languages. Their purpose is to iterate through a data structure and interact with each element one by one.\n",
    "\n",
    "Loops are very powerful programming tools, and you'll use them fairly frequently. They're useful because computers are very good at repeating identical or similar tasks without making errors.\n",
    "\n",
    "Let's use a for loop to print each pet from the above example:"
   ]
  },
  {
   "cell_type": "code",
   "execution_count": 19,
   "metadata": {},
   "outputs": [
    {
     "name": "stdout",
     "output_type": "stream",
     "text": [
      "[1] \"dog\"\n",
      "[1] \"cat\"\n",
      "[1] \"bird\"\n",
      "[1] \"turtle\"\n",
      "[1] \"fish\"\n",
      "[1] \"hamster\"\n",
      "[1] \"lizard\"\n"
     ]
    }
   ],
   "source": [
    "for (i in list1) { \n",
    "   print(i)\n",
    "}"
   ]
  },
  {
   "cell_type": "markdown",
   "metadata": {},
   "source": [
    "Awesome! Let's look at another example below. \n",
    "\n",
    "#### Example\n",
    "\n",
    "Let's write a for loop to print all numbers between 0 and 10. "
   ]
  },
  {
   "cell_type": "code",
   "execution_count": 20,
   "metadata": {},
   "outputs": [
    {
     "name": "stdout",
     "output_type": "stream",
     "text": [
      "[1] 1\n",
      "[1] 2\n",
      "[1] 3\n",
      "[1] 4\n",
      "[1] 5\n",
      "[1] 6\n",
      "[1] 7\n",
      "[1] 8\n",
      "[1] 9\n",
      "[1] 10\n"
     ]
    }
   ],
   "source": [
    "for (i in 1:10) {\n",
    "    print(i)\n",
    "}"
   ]
  },
  {
   "cell_type": "markdown",
   "metadata": {},
   "source": [
    "# Challenge\n",
    "\n",
    "FizzBuzz is a common interview brain teaser. \n",
    "\n",
    "- The `fizz_buzz` function will take a number as an argument.\n",
    "- The function should print all integers starting at one, and going up to, and including, the input number.\n",
    "- When you print the numbers, if the number you're printing is divisible by 3, print \"Fizz\" instead.\n",
    "- When you print the numbers, if the number you're printing is divisible by 5, print \"Buzz\" instead.\n",
    "- If the number is divisible by both 3 and 5, print \"FizzBuzz\".\n",
    "- If the number is not divisible by 3 or 5, simply print the integer.\n",
    "\n",
    "Your program's output should look like this:\n",
    "\n",
    "```\n",
    "1\n",
    "2\n",
    "Fizz\n",
    "4\n",
    "Buzz\n",
    "...\n",
    "```"
   ]
  },
  {
   "cell_type": "code",
   "execution_count": null,
   "metadata": {
    "collapsed": true
   },
   "outputs": [],
   "source": []
  },
  {
   "cell_type": "markdown",
   "metadata": {},
   "source": [
    "### While Loops\n",
    "\n",
    "Another common loop is the while loop.\n",
    "\n",
    "This is similar to a for loop, but instead of iterating through a data structure, this loop will continue to run until a condition is no longer true.\n",
    "\n",
    "Let's look at an example:"
   ]
  },
  {
   "cell_type": "code",
   "execution_count": 21,
   "metadata": {},
   "outputs": [
    {
     "name": "stdout",
     "output_type": "stream",
     "text": [
      "[1] 0\n",
      "[1] 1\n",
      "[1] 2\n",
      "[1] 3\n",
      "[1] 4\n",
      "[1] 5\n",
      "[1] 6\n",
      "[1] 7\n",
      "[1] 8\n",
      "[1] 9\n"
     ]
    }
   ],
   "source": [
    "i <- 0\n",
    "while (i < 10) {\n",
    "   print(i)\n",
    "   i <- i + 1\n",
    "}"
   ]
  },
  {
   "cell_type": "markdown",
   "metadata": {},
   "source": [
    "Here's the flow of execution in a while loop: * Evaluate the condition, i < 10, yielding False or True. * If the condition is false, exit the while statement and continue execution at the next statement. * If the condition is true, execute each of the statements in the body and then go back to step 1.\n",
    "\n",
    "In the example above, notice that at the end of every turn the loop will increment \"i\" by 1, so eventually \"i\" will be greater than 10.\n",
    "\n",
    "Be careful when using while loops. If your condition always remains true, the loop will never end. This is known as an infinite loop\n",
    "\n",
    "Below is a similar example except the condition was changed and it has now become an infinite loop:\n",
    "\n",
    "``` R\n",
    "i <- 10\n",
    "while (i > 5) {\n",
    "   print(i)\n",
    "   i <- i + 1\n",
    "}\n",
    "```"
   ]
  },
  {
   "cell_type": "markdown",
   "metadata": {},
   "source": [
    "# Challenge\n",
    "\n",
    "Using a while loop, print all the even numbers between 1 and 10 (including 10)"
   ]
  },
  {
   "cell_type": "code",
   "execution_count": null,
   "metadata": {
    "collapsed": true
   },
   "outputs": [],
   "source": []
  },
  {
   "cell_type": "markdown",
   "metadata": {
    "collapsed": true
   },
   "source": [
    "## Input/Output\n",
    "\n",
    "Input and Output refers to how our code interacts with a user or computer There are many different methods to input/output data for R. In this section, we'll review the different ways in which R handles input and output.\n",
    "\n",
    "### Source Command\n"
   ]
  },
  {
   "cell_type": "raw",
   "metadata": {},
   "source": [
    "source(\"/path-to-file/name_of_file.R\")"
   ]
  },
  {
   "cell_type": "markdown",
   "metadata": {},
   "source": [
    "Source will load and execute a script of R commands.  For instance - if you have saved functions in another file -  you can use source to access the file instead of rewriting the function. Make sure to have both files in the current working directory or to include the path. "
   ]
  },
  {
   "cell_type": "code",
   "execution_count": 22,
   "metadata": {},
   "outputs": [
    {
     "name": "stdout",
     "output_type": "stream",
     "text": [
      "[1] \"Hello World\"\n"
     ]
    }
   ],
   "source": [
    "print (\"Hello World\")"
   ]
  },
  {
   "cell_type": "markdown",
   "metadata": {},
   "source": [
    "This function, as shown above, allows us to print \"Hello World\". \n"
   ]
  },
  {
   "cell_type": "markdown",
   "metadata": {},
   "source": [
    "### Read a CSV"
   ]
  },
  {
   "cell_type": "raw",
   "metadata": {},
   "source": [
    "read.csv(\"/path-to-file/name_of_file.csv\")"
   ]
  },
  {
   "cell_type": "markdown",
   "metadata": {},
   "source": [
    "There are many formats and standards of text documents for storing data.  One common format for storing data are delimiter-separated values (CSV or tab-delimited).\n"
   ]
  },
  {
   "cell_type": "markdown",
   "metadata": {},
   "source": [
    "### Read a Table"
   ]
  },
  {
   "cell_type": "raw",
   "metadata": {},
   "source": [
    "read.table(\"/path-to-file/name_of_file.csv\")"
   ]
  },
  {
   "cell_type": "markdown",
   "metadata": {},
   "source": [
    "This function can read delimited files and store the results in a data frame.  \n"
   ]
  },
  {
   "cell_type": "markdown",
   "metadata": {},
   "source": [
    "# Challenge\n",
    "\n",
    "1. Use the source command to load the `using_source_example.R` script and define a new variable `var` that runs this function for the value 7. Also print `var`. \n",
    "\n",
    "2. Load the file `values_squared.csv` as a variable `csv_var`. Print `csv_var` to see the results. Make sure to not include the first line of the csv file in the header. (hint: look at the header argument)\n",
    "\n",
    "3. Load the file `values_squared.csv` as a variable `table_var`. Print `table_var` to see the results. Make sure to not include the first line of the csv file in the header. (hint: look at the header argument)\n",
    "\n"
   ]
  },
  {
   "cell_type": "code",
   "execution_count": null,
   "metadata": {
    "collapsed": true
   },
   "outputs": [],
   "source": []
  }
 ],
 "metadata": {
  "kernelspec": {
   "display_name": "R",
   "language": "R",
   "name": "ir"
  },
  "language_info": {
   "codemirror_mode": "r",
   "file_extension": ".r",
   "mimetype": "text/x-r-source",
   "name": "R",
   "pygments_lexer": "r",
   "version": "3.4.1"
  }
 },
 "nbformat": 4,
 "nbformat_minor": 2
}
